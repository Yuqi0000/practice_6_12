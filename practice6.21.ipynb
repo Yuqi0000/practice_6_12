{
 "cells": [
  {
   "cell_type": "code",
   "execution_count": 13,
   "id": "15584b45",
   "metadata": {},
   "outputs": [
    {
     "name": "stderr",
     "output_type": "stream",
     "text": [
      "[nltk_data] Downloading package movie_reviews to\n",
      "[nltk_data]     /Users/qiqi/nltk_data...\n",
      "[nltk_data]   Package movie_reviews is already up-to-date!\n"
     ]
    }
   ],
   "source": [
    "\n",
    "import matplotlib.pyplot as plt\n",
    "%matplotlib inline\n",
    "import numpy as np \n",
    "import os\n",
    "import nltk\n",
    "nltk.download(\"movie_reviews\")\n",
    "from nltk.corpus import movie_reviews # Note we're importing the dataset here!\n",
    "import pandas as pd\n",
    "import re # regular expressions\n",
    "import seaborn as sns\n",
    "# CV (multiple train/test splitting)\n",
    "from sklearn.model_selection import cross_val_score, train_test_split\n",
    "# Regression\n",
    "from sklearn.linear_model import LogisticRegression\n",
    "# Tools to create our DTMs\n",
    "from sklearn.feature_extraction.text import CountVectorizer, TfidfVectorizer, TfidfTransformer\n",
    "# Speed up your machine learning setup\n",
    "from sklearn.pipeline import Pipeline\n",
    "# Mix up our training and test sets\n",
    "from sklearn.utils import shuffle\n",
    "\n",
    "import warnings\n",
    "warnings.filterwarnings(\"ignore\", category = DeprecationWarning)\n"
   ]
  },
  {
   "cell_type": "code",
   "execution_count": 30,
   "id": "8a6bdbec",
   "metadata": {},
   "outputs": [],
   "source": [
    "text = '''In King Lear, we learn that the concept of being in a house is closely related to the understanding of inter-environmental relationships, as well as to the perception and definition of the ecological environment. As we learn from the Oxford English Dictionary, “houseless” as an adjective means “of a person: not owning or living in a house or other property; having no permanent shelter or place of refuge” and “of an animal (esp. a mollusc or crustacean): lacking a shell or other protective covering” (\"houseless, adj. and n.\"). From the Oxford English Dictionary we know that the word “houseless” can refer to both “people” and “animals” (\"houseless, adj. and n.\"). We learn that to be houseless means to lack a specific condition in which one can be protected; it can also mean to be excluded from a certain sense of ownership and belonging. We may infer that to be houseless can mean to be displaced from a particular space and to enter the assumed opposite. Viewing the concept of sustainability as enabling ways of continuously balancing relationships between various entities and spaces, I would like to discuss how we may examine the meanings of negotiating the sustainability of the relation between humans and the ecological environment through analyzing how being houseless restructures humanness in King Lear. In this essay, through discussing the keyword “houseless,” I argue that reading King Lear provides us possibilities to rethink our ways of maintaining ecological sustainability through dehumanization and to challenge the nature/culture dichotomy through relocating the possession of agency.'''"
   ]
  },
  {
   "cell_type": "code",
   "execution_count": 31,
   "id": "f7e2de3d",
   "metadata": {},
   "outputs": [
    {
     "name": "stdout",
     "output_type": "stream",
     "text": [
      "<class 'str'>\n",
      "\n",
      "In King Lear, we learn that the concept of being in a house is closely related to the understanding of inter-environmental relationships, as well as to the perception and definition of the ecological environment. As we learn from the Oxford English Dictionary, “houseless” as an adjective means “of a person: not owning or living in a house or other property; having no permanent shelter or place of refuge” and “of an animal (esp. a mollusc or crustacean): lacking a shell or other protective covering” (\"houseless, adj. and n.\"). From the Oxford English Dictionary we know that the word “houseless” can refer to both “people” and “animals” (\"houseless, adj. and n.\"). We learn that to be houseless means to lack a specific condition in which one can be protected; it can also mean to be excluded from a certain sense of ownership and belonging. We may infer that to be houseless can mean to be displaced from a particular space and to enter the assumed opposite. Viewing the concept of sustainability as enabling ways of continuously balancing relationships between various entities and spaces, I would like to discuss how we may examine the meanings of negotiating the sustainability of the relation between humans and the ecological environment through analyzing how being houseless restructures humanness in King Lear. In this essay, through discussing the keyword “houseless,” I argue that reading King Lear provides us possibilities to rethink our ways of maintaining ecological sustainability through dehumanization and to challenge the nature/culture dichotomy through relocating the possession of agency.\n"
     ]
    }
   ],
   "source": [
    "print(type(text))\n",
    "print()\n",
    "print(text)"
   ]
  },
  {
   "cell_type": "code",
   "execution_count": 32,
   "id": "a9ad548f",
   "metadata": {},
   "outputs": [
    {
     "name": "stdout",
     "output_type": "stream",
     "text": [
      "['In', 'King', 'Lear,', 'we', 'learn', 'that', 'the', 'concept', 'of', 'being', 'in', 'a', 'house', 'is', 'closely', 'related', 'to', 'the', 'understanding', 'of', 'inter-environmental', 'relationships,', 'as', 'well', 'as', 'to', 'the', 'perception', 'and', 'definition', 'of', 'the', 'ecological', 'environment.', 'As', 'we', 'learn', 'from', 'the', 'Oxford', 'English', 'Dictionary,', '“houseless”', 'as', 'an', 'adjective', 'means', '“of', 'a', 'person:', 'not', 'owning', 'or', 'living', 'in', 'a', 'house', 'or', 'other', 'property;', 'having', 'no', 'permanent', 'shelter', 'or', 'place', 'of', 'refuge”', 'and', '“of', 'an', 'animal', '(esp.', 'a', 'mollusc', 'or', 'crustacean):', 'lacking', 'a', 'shell', 'or', 'other', 'protective', 'covering”', '(\"houseless,', 'adj.', 'and', 'n.\").', 'From', 'the', 'Oxford', 'English', 'Dictionary', 'we', 'know', 'that', 'the', 'word', '“houseless”', 'can', 'refer', 'to', 'both', '“people”', 'and', '“animals”', '(\"houseless,', 'adj.', 'and', 'n.\").', 'We', 'learn', 'that', 'to', 'be', 'houseless', 'means', 'to', 'lack', 'a', 'specific', 'condition', 'in', 'which', 'one', 'can', 'be', 'protected;', 'it', 'can', 'also', 'mean', 'to', 'be', 'excluded', 'from', 'a', 'certain', 'sense', 'of', 'ownership', 'and', 'belonging.', 'We', 'may', 'infer', 'that', 'to', 'be', 'houseless', 'can', 'mean', 'to', 'be', 'displaced', 'from', 'a', 'particular', 'space', 'and', 'to', 'enter', 'the', 'assumed', 'opposite.', 'Viewing', 'the', 'concept', 'of', 'sustainability', 'as', 'enabling', 'ways', 'of', 'continuously', 'balancing', 'relationships', 'between', 'various', 'entities', 'and', 'spaces,', 'I', 'would', 'like', 'to', 'discuss', 'how', 'we', 'may', 'examine', 'the', 'meanings', 'of', 'negotiating', 'the', 'sustainability', 'of', 'the', 'relation', 'between', 'humans', 'and', 'the', 'ecological', 'environment', 'through', 'analyzing', 'how', 'being', 'houseless', 'restructures', 'humanness', 'in', 'King', 'Lear.', 'In', 'this', 'essay,', 'through', 'discussing', 'the', 'keyword', '“houseless,”', 'I', 'argue', 'that', 'reading', 'King', 'Lear', 'provides', 'us', 'possibilities', 'to', 'rethink', 'our', 'ways', 'of', 'maintaining', 'ecological', 'sustainability', 'through', 'dehumanization', 'and', 'to', 'challenge', 'the', 'nature/culture', 'dichotomy', 'through', 'relocating', 'the', 'possession', 'of', 'agency.']\n"
     ]
    }
   ],
   "source": [
    "print(text.split())"
   ]
  },
  {
   "cell_type": "code",
   "execution_count": 33,
   "id": "48ab5179",
   "metadata": {},
   "outputs": [
    {
     "name": "stdout",
     "output_type": "stream",
     "text": [
      "['In', 'King', 'Lear,', 'we', 'learn', 'that', 'the', 'concept', 'of', 'being', 'in', 'a', 'house', 'is', 'closely', 'related', 'to', 'the', 'understanding', 'of', 'inter-environmental', 'relationships,', 'as', 'well', 'as', 'to', 'the', 'perception', 'and', 'definition', 'of', 'the', 'ecological', 'environment.', 'As', 'we', 'learn', 'from', 'the', 'Oxford', 'English', 'Dictionary,', '“houseless”', 'as', 'an', 'adjective', 'means', '“of', 'a', 'person:', 'not', 'owning', 'or', 'living', 'in', 'a', 'house', 'or', 'other', 'property;', 'having', 'no', 'permanent', 'shelter', 'or', 'place', 'of', 'refuge”', 'and', '“of', 'an', 'animal', '(esp.', 'a', 'mollusc', 'or', 'crustacean):', 'lacking', 'a', 'shell', 'or', 'other', 'protective', 'covering”', '(\"houseless,', 'adj.', 'and', 'n.\").', 'From', 'the', 'Oxford', 'English', 'Dictionary', 'we', 'know', 'that', 'the', 'word', '“houseless”', 'can', 'refer', 'to', 'both', '“people”', 'and', '“animals”', '(\"houseless,', 'adj.', 'and', 'n.\").', 'We', 'learn', 'that', 'to', 'be', 'houseless', 'means', 'to', 'lack', 'a', 'specific', 'condition', 'in', 'which', 'one', 'can', 'be', 'protected;', 'it', 'can', 'also', 'mean', 'to', 'be', 'excluded', 'from', 'a', 'certain', 'sense', 'of', 'ownership', 'and', 'belonging.', 'We', 'may', 'infer', 'that', 'to', 'be', 'houseless', 'can', 'mean', 'to', 'be', 'displaced', 'from', 'a', 'particular', 'space', 'and', 'to', 'enter', 'the', 'assumed', 'opposite.', 'Viewing', 'the', 'concept', 'of', 'sustainability', 'as', 'enabling', 'ways', 'of', 'continuously', 'balancing', 'relationships', 'between', 'various', 'entities', 'and', 'spaces,', 'I', 'would', 'like', 'to', 'discuss', 'how', 'we', 'may', 'examine', 'the', 'meanings', 'of', 'negotiating', 'the', 'sustainability', 'of', 'the', 'relation', 'between', 'humans', 'and', 'the', 'ecological', 'environment', 'through', 'analyzing', 'how', 'being', 'houseless', 'restructures', 'humanness', 'in', 'King', 'Lear.', 'In', 'this', 'essay,', 'through', 'discussing', 'the', 'keyword', '“houseless,”', 'I', 'argue', 'that', 'reading', 'King', 'Lear', 'provides', 'us', 'possibilities', 'to', 'rethink', 'our', 'ways', 'of', 'maintaining', 'ecological', 'sustainability', 'through', 'dehumanization', 'and', 'to', 'challenge', 'the', 'nature/culture', 'dichotomy', 'through', 'relocating', 'the', 'possession', 'of', 'agency.']\n"
     ]
    }
   ],
   "source": [
    "tokens = text.split()\n",
    "print(tokens)"
   ]
  },
  {
   "cell_type": "code",
   "execution_count": 34,
   "id": "322f69d2",
   "metadata": {},
   "outputs": [],
   "source": [
    "tokens_list = [m.split() for m in text]\n",
    "tokens_flat = [token for sublist in tokens_list for token in sublist]"
   ]
  },
  {
   "cell_type": "code",
   "execution_count": 35,
   "id": "582695ec",
   "metadata": {},
   "outputs": [
    {
     "data": {
      "text/plain": [
       "1360"
      ]
     },
     "execution_count": 35,
     "metadata": {},
     "output_type": "execute_result"
    }
   ],
   "source": [
    "len(tokens_flat)"
   ]
  },
  {
   "cell_type": "code",
   "execution_count": 36,
   "id": "7f537638",
   "metadata": {},
   "outputs": [
    {
     "data": {
      "text/plain": [
       "46"
      ]
     },
     "execution_count": 36,
     "metadata": {},
     "output_type": "execute_result"
    }
   ],
   "source": [
    "uniq_tokens = list(set(tokens_flat))\n",
    "len(uniq_tokens)"
   ]
  },
  {
   "cell_type": "code",
   "execution_count": 38,
   "id": "d5aca48f",
   "metadata": {},
   "outputs": [
    {
     "data": {
      "text/plain": [
       "108"
      ]
     },
     "execution_count": 38,
     "metadata": {},
     "output_type": "execute_result"
    }
   ],
   "source": [
    "sum([int('a' in d) for d in text])"
   ]
  },
  {
   "cell_type": "code",
   "execution_count": null,
   "id": "17199892",
   "metadata": {},
   "outputs": [],
   "source": []
  }
 ],
 "metadata": {
  "kernelspec": {
   "display_name": "Python 3 (ipykernel)",
   "language": "python",
   "name": "python3"
  },
  "language_info": {
   "codemirror_mode": {
    "name": "ipython",
    "version": 3
   },
   "file_extension": ".py",
   "mimetype": "text/x-python",
   "name": "python",
   "nbconvert_exporter": "python",
   "pygments_lexer": "ipython3",
   "version": "3.10.9"
  }
 },
 "nbformat": 4,
 "nbformat_minor": 5
}
